{
 "cells": [
  {
   "cell_type": "markdown",
   "metadata": {},
   "source": [
    "# <center>Analyse de données tendance_centrale<center>"
   ]
  },
  {
   "cell_type": "markdown",
   "metadata": {},
   "source": [
    "## Importation des librairies"
   ]
  },
  {
   "cell_type": "code",
   "execution_count": 1,
   "metadata": {},
   "outputs": [],
   "source": [
    "import pandas as pd\n",
    "import numpy as np\n",
    "import matplotlib.pyplot as plt\n",
    "import scipy.stats as stats\n",
    "import statsmodels.api as sm\n",
    "from statsmodels.formula.api import ols"
   ]
  },
  {
   "cell_type": "markdown",
   "metadata": {},
   "source": [
    "## Chargement du fichier"
   ]
  },
  {
   "cell_type": "code",
   "execution_count": 2,
   "metadata": {},
   "outputs": [],
   "source": [
    "tendanceCentrale = pd.read_csv(\"data/tendance_centrale.csv\")"
   ]
  },
  {
   "cell_type": "markdown",
   "metadata": {},
   "source": [
    "## Analyse du fichier"
   ]
  },
  {
   "cell_type": "code",
   "execution_count": 3,
   "metadata": {},
   "outputs": [
    {
     "name": "stdout",
     "output_type": "stream",
     "text": [
      "<class 'pandas.core.frame.DataFrame'>\n",
      "RangeIndex: 17 entries, 0 to 16\n",
      "Data columns (total 3 columns):\n",
      " #   Column  Non-Null Count  Dtype  \n",
      "---  ------  --------------  -----  \n",
      " 0   Nom     17 non-null     object \n",
      " 1   Age     17 non-null     int64  \n",
      " 2   Rating  17 non-null     float64\n",
      "dtypes: float64(1), int64(1), object(1)\n",
      "memory usage: 536.0+ bytes\n"
     ]
    },
    {
     "data": {
      "text/html": [
       "<div>\n",
       "<style scoped>\n",
       "    .dataframe tbody tr th:only-of-type {\n",
       "        vertical-align: middle;\n",
       "    }\n",
       "\n",
       "    .dataframe tbody tr th {\n",
       "        vertical-align: top;\n",
       "    }\n",
       "\n",
       "    .dataframe thead th {\n",
       "        text-align: right;\n",
       "    }\n",
       "</style>\n",
       "<table border=\"1\" class=\"dataframe\">\n",
       "  <thead>\n",
       "    <tr style=\"text-align: right;\">\n",
       "      <th></th>\n",
       "      <th>Nom</th>\n",
       "      <th>Age</th>\n",
       "      <th>Rating</th>\n",
       "    </tr>\n",
       "  </thead>\n",
       "  <tbody>\n",
       "    <tr>\n",
       "      <th>0</th>\n",
       "      <td>ANATOLE</td>\n",
       "      <td>55</td>\n",
       "      <td>4.53</td>\n",
       "    </tr>\n",
       "    <tr>\n",
       "      <th>1</th>\n",
       "      <td>Vincent</td>\n",
       "      <td>59</td>\n",
       "      <td>3.54</td>\n",
       "    </tr>\n",
       "    <tr>\n",
       "      <th>2</th>\n",
       "      <td>Brenda</td>\n",
       "      <td>55</td>\n",
       "      <td>3.98</td>\n",
       "    </tr>\n",
       "    <tr>\n",
       "      <th>3</th>\n",
       "      <td>Philippe</td>\n",
       "      <td>53</td>\n",
       "      <td>5.59</td>\n",
       "    </tr>\n",
       "    <tr>\n",
       "      <th>4</th>\n",
       "      <td>Michel</td>\n",
       "      <td>30</td>\n",
       "      <td>3.50</td>\n",
       "    </tr>\n",
       "    <tr>\n",
       "      <th>5</th>\n",
       "      <td>Tillier</td>\n",
       "      <td>59</td>\n",
       "      <td>4.90</td>\n",
       "    </tr>\n",
       "    <tr>\n",
       "      <th>6</th>\n",
       "      <td>Blanchard</td>\n",
       "      <td>53</td>\n",
       "      <td>3.80</td>\n",
       "    </tr>\n",
       "    <tr>\n",
       "      <th>7</th>\n",
       "      <td>perez</td>\n",
       "      <td>34</td>\n",
       "      <td>3.78</td>\n",
       "    </tr>\n",
       "    <tr>\n",
       "      <th>8</th>\n",
       "      <td>théo</td>\n",
       "      <td>40</td>\n",
       "      <td>5.98</td>\n",
       "    </tr>\n",
       "    <tr>\n",
       "      <th>9</th>\n",
       "      <td>cyprien</td>\n",
       "      <td>30</td>\n",
       "      <td>4.80</td>\n",
       "    </tr>\n",
       "    <tr>\n",
       "      <th>10</th>\n",
       "      <td>manuella</td>\n",
       "      <td>53</td>\n",
       "      <td>4.30</td>\n",
       "    </tr>\n",
       "    <tr>\n",
       "      <th>11</th>\n",
       "      <td>LEGGERET</td>\n",
       "      <td>49</td>\n",
       "      <td>3.95</td>\n",
       "    </tr>\n",
       "    <tr>\n",
       "      <th>12</th>\n",
       "      <td>perez</td>\n",
       "      <td>34</td>\n",
       "      <td>3.78</td>\n",
       "    </tr>\n",
       "    <tr>\n",
       "      <th>13</th>\n",
       "      <td>sestre</td>\n",
       "      <td>40</td>\n",
       "      <td>5.98</td>\n",
       "    </tr>\n",
       "    <tr>\n",
       "      <th>14</th>\n",
       "      <td>Fazal</td>\n",
       "      <td>30</td>\n",
       "      <td>4.80</td>\n",
       "    </tr>\n",
       "    <tr>\n",
       "      <th>15</th>\n",
       "      <td>Donald</td>\n",
       "      <td>53</td>\n",
       "      <td>4.30</td>\n",
       "    </tr>\n",
       "    <tr>\n",
       "      <th>16</th>\n",
       "      <td>Estelle</td>\n",
       "      <td>49</td>\n",
       "      <td>3.95</td>\n",
       "    </tr>\n",
       "  </tbody>\n",
       "</table>\n",
       "</div>"
      ],
      "text/plain": [
       "           Nom  Age  Rating\n",
       "0      ANATOLE   55    4.53\n",
       "1     Vincent    59    3.54\n",
       "2      Brenda    55    3.98\n",
       "3    Philippe    53    5.59\n",
       "4      Michel    30    3.50\n",
       "5     Tillier    59    4.90\n",
       "6   Blanchard    53    3.80\n",
       "7        perez   34    3.78\n",
       "8        théo    40    5.98\n",
       "9     cyprien    30    4.80\n",
       "10   manuella    53    4.30\n",
       "11   LEGGERET    49    3.95\n",
       "12       perez   34    3.78\n",
       "13    sestre     40    5.98\n",
       "14      Fazal    30    4.80\n",
       "15      Donald   53    4.30\n",
       "16     Estelle   49    3.95"
      ]
     },
     "execution_count": 3,
     "metadata": {},
     "output_type": "execute_result"
    }
   ],
   "source": [
    "tendanceCentrale.info()\n",
    "tendanceCentrale"
   ]
  },
  {
   "cell_type": "markdown",
   "metadata": {},
   "source": [
    "### Découpage des données"
   ]
  },
  {
   "cell_type": "code",
   "execution_count": 4,
   "metadata": {},
   "outputs": [],
   "source": [
    "noms = tendanceCentrale.iloc[:, 0]\n",
    "ages = tendanceCentrale.iloc[:, 1]\n",
    "ratings = tendanceCentrale.iloc[:, 2]"
   ]
  },
  {
   "cell_type": "markdown",
   "metadata": {},
   "source": [
    "## Mesure tendance centrale"
   ]
  },
  {
   "cell_type": "markdown",
   "metadata": {},
   "source": [
    "### Ages"
   ]
  },
  {
   "cell_type": "code",
   "execution_count": 5,
   "metadata": {},
   "outputs": [
    {
     "data": {
      "image/png": "[encoded data removed]",
      "text/plain": [
       "<Figure size 432x288 with 1 Axes>"
      ]
     },
     "metadata": {
      "needs_background": "light"
     },
     "output_type": "display_data"
    }
   ],
   "source": [
    "# Récupération des valeurs utiles à la tendance centrale\n",
    "agesMean = ages.mean()\n",
    "agesMedian = ages.median()\n",
    "agesMode = ages.mode()\n",
    "\n",
    "# Mise en évidence du mode\n",
    "distributionAges = ages.value_counts()\n",
    "couleurs = [\"blue\"]*distributionAges.size\n",
    "couleurs[0] = \"red\"\n",
    "\n",
    "# Annotation du diagramme\n",
    "plt.title(\"Distribution de la variable age - Tendance Centrale\")\n",
    "plt.xlabel(\"Age\")\n",
    "plt.ylabel(\"Fréquence\")\n",
    "\n",
    "# Affichage de l'histogramme\n",
    "plt.bar(distributionAges.index, distributionAges, color=couleurs)\n",
    "\n",
    "# Récupération des bornes verticales de la figure\n",
    "yMin, yMax = plt.ylim()\n",
    "\n",
    "# Affichage des valeurs de la tendance centrale\n",
    "\n",
    "## Moyenne\n",
    "plt.axvline(agesMean)\n",
    "plt.text(agesMean*1.1, yMax*0.9, f\"Moyenne : {round(agesMean, 2)}\")\n",
    "\n",
    "## Médiane\n",
    "plt.axvline(agesMedian, linestyle=\"dashed\")\n",
    "plt.text(agesMedian*0.75, yMax*0.9, f\"Mediane : {round(agesMedian, 2)}\")\n",
    "\n",
    "## Mode\n",
    "plt.text(agesMode*0.99, -0.5, f\"{agesMode[0]}\", color=\"red\")\n",
    "\n",
    "# Affichage de la figure obtenue\n",
    "plt.show()"
   ]
  },
  {
   "cell_type": "markdown",
   "metadata": {},
   "source": [
    "### Ratings"
   ]
  },
  {
   "cell_type": "code",
   "execution_count": 6,
   "metadata": {},
   "outputs": [
    {
     "data": {
      "image/png": "[encoded data removed]",
      "text/plain": [
       "<Figure size 432x288 with 1 Axes>"
      ]
     },
     "metadata": {
      "needs_background": "light"
     },
     "output_type": "display_data"
    }
   ],
   "source": [
    "# Récupération des valeurs utiles à la tendance centrale\n",
    "ratingsMean = ratings.mean()\n",
    "ratingsMedian = ratings.median()\n",
    "ratingsMode = ratings.mode()\n",
    "\n",
    "# Mise en évidence des modes\n",
    "distributionRatings = ratings.value_counts()\n",
    "couleurs = [\"blue\"]*distributionRatings.size\n",
    "n = ratingsMode.size\n",
    "couleurs[:n] = [\"red\" for i in range(n)]\n",
    "\n",
    "# Annotation du diagramme\n",
    "plt.title(\"Distribution de la variable ratings - Tendance Centrale\")\n",
    "plt.xlabel(\"Rating\")\n",
    "plt.ylabel(\"Fréquence\")\n",
    "\n",
    "# Affichage de l'histogramme\n",
    "plt.bar(distributionRatings.index, distributionRatings, color=couleurs, width = 0.01)\n",
    "\n",
    "# Récupération des bornes verticales de la figure\n",
    "yMin, yMax = plt.ylim()\n",
    "\n",
    "# Affichage des valeurs de la tendance centrale\n",
    "\n",
    "## Moyenne\n",
    "plt.axvline(ratingsMean)\n",
    "plt.text(ratingsMean*1.01, yMax*0.9, f\"Moyenne : {round(ratingsMean, 2)}\")\n",
    "\n",
    "## Médiane\n",
    "plt.axvline(ratingsMedian, linestyle=\"dashed\")\n",
    "plt.text(ratingsMedian*0.85, yMax*0.9, f\"Mediane : {round(ratingsMedian, 2)}\")\n",
    "\n",
    "## Modes\n",
    "for mode in ratingsMode:\n",
    "    plt.text(mode*0.98, -0.25, f\"{round(mode, 2)}\", size=8, color=\"red\")\n",
    "\n",
    "# Affichage de la figure obtenue\n",
    "plt.show()"
   ]
  },
  {
   "cell_type": "markdown",
   "metadata": {},
   "source": [
    "## Analyse de la variance"
   ]
  },
  {
   "cell_type": "markdown",
   "metadata": {},
   "source": [
    "### Calcul de la variance"
   ]
  },
  {
   "cell_type": "code",
   "execution_count": 7,
   "metadata": {},
   "outputs": [
    {
     "data": {
      "text/plain": [
       "Age       108.228374\n",
       "Rating      0.602940\n",
       "dtype: float64"
      ]
     },
     "execution_count": 7,
     "metadata": {},
     "output_type": "execute_result"
    }
   ],
   "source": [
    "np.var(tendanceCentrale[[\"Age\", \"Rating\"]])"
   ]
  },
  {
   "cell_type": "markdown",
   "metadata": {},
   "source": [
    "### Création des groupes en fonction de l'âge"
   ]
  },
  {
   "cell_type": "code",
   "execution_count": 8,
   "metadata": {},
   "outputs": [],
   "source": [
    "ageGroup = tendanceCentrale.groupby(\"Age\")\n",
    "ageGroupList = [ageGroup.get_group(age)[\"Rating\"] for age in tendanceCentrale[\"Age\"].unique()]"
   ]
  },
  {
   "cell_type": "markdown",
   "metadata": {},
   "source": [
    "### ANOVA"
   ]
  },
  {
   "cell_type": "code",
   "execution_count": 9,
   "metadata": {},
   "outputs": [
    {
     "name": "stdout",
     "output_type": "stream",
     "text": [
      "2.6464342372301703 0.08370350483249943\n"
     ]
    },
    {
     "data": {
      "text/html": [
       "<div>\n",
       "<style scoped>\n",
       "    .dataframe tbody tr th:only-of-type {\n",
       "        vertical-align: middle;\n",
       "    }\n",
       "\n",
       "    .dataframe tbody tr th {\n",
       "        vertical-align: top;\n",
       "    }\n",
       "\n",
       "    .dataframe thead th {\n",
       "        text-align: right;\n",
       "    }\n",
       "</style>\n",
       "<table border=\"1\" class=\"dataframe\">\n",
       "  <thead>\n",
       "    <tr style=\"text-align: right;\">\n",
       "      <th></th>\n",
       "      <th>df</th>\n",
       "      <th>sum_sq</th>\n",
       "      <th>mean_sq</th>\n",
       "      <th>F</th>\n",
       "      <th>PR(&gt;F)</th>\n",
       "    </tr>\n",
       "  </thead>\n",
       "  <tbody>\n",
       "    <tr>\n",
       "      <th>C(Age)</th>\n",
       "      <td>6.0</td>\n",
       "      <td>6.289185</td>\n",
       "      <td>1.048197</td>\n",
       "      <td>2.646434</td>\n",
       "      <td>0.083704</td>\n",
       "    </tr>\n",
       "    <tr>\n",
       "      <th>Residual</th>\n",
       "      <td>10.0</td>\n",
       "      <td>3.960792</td>\n",
       "      <td>0.396079</td>\n",
       "      <td>NaN</td>\n",
       "      <td>NaN</td>\n",
       "    </tr>\n",
       "  </tbody>\n",
       "</table>\n",
       "</div>"
      ],
      "text/plain": [
       "            df    sum_sq   mean_sq         F    PR(>F)\n",
       "C(Age)     6.0  6.289185  1.048197  2.646434  0.083704\n",
       "Residual  10.0  3.960792  0.396079       NaN       NaN"
      ]
     },
     "execution_count": 9,
     "metadata": {},
     "output_type": "execute_result"
    }
   ],
   "source": [
    "# Utilisation de la librairie scipy\n",
    "fvalue, pvalue = stats.f_oneway(*(ageGroupList))\n",
    "print(fvalue, pvalue)\n",
    "\n",
    "# Utilisation de la librairie statsmodels et du modèle Modèle Ordinary Least Squares (OLS)\n",
    "model = ols('Rating ~ C(Age)', data=tendanceCentrale).fit()\n",
    "anova_table = sm.stats.anova_lm(model)\n",
    "anova_table"
   ]
  },
  {
   "cell_type": "markdown",
   "metadata": {},
   "source": [
    "Après analyse de la variance, la valeur PR nous permet d'avancer qu'un modèle prédictif des notes en fonction de l'âge aura une erreur de plus de 8%."
   ]
  }
 ],
 "metadata": {
  "kernelspec": {
   "display_name": "Python 3",
   "language": "python",
   "name": "python3"
  },
  "language_info": {
   "codemirror_mode": {
    "name": "ipython",
    "version": 3
   },
   "file_extension": ".py",
   "mimetype": "text/x-python",
   "name": "python",
   "nbconvert_exporter": "python",
   "pygments_lexer": "ipython3",
   "version": "3.9.7"
  }
 },
 "nbformat": 4,
 "nbformat_minor": 4
}
